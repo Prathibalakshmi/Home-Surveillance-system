{
 "cells": [
  {
   "cell_type": "markdown",
   "metadata": {},
   "source": [
    "# <center> HOME SURVEILLANCE SYSTEM <center>"
   ]
  },
  {
   "cell_type": "markdown",
   "metadata": {},
   "source": [
    "### AIM:\n",
    "Detect the human face and store the exact date and time of detection. Store it in a folder and record the activities the human face did in the video file. Only the Human activities will be recorded."
   ]
  },
  {
   "cell_type": "markdown",
   "metadata": {},
   "source": [
    "### Procedure\n",
    "- Import libraries.\n",
    "- Load Face Cascade xml file to  get the properties of the face using Cascadeclassifier from open cv\n",
    "- Create Video variable to get the input from the webcam\n",
    "- Create a infinte loop and extract the data predent in the video variable."
   ]
  },
  {
   "cell_type": "markdown",
   "metadata": {},
   "source": [
    "### Importing Libraries"
   ]
  },
  {
   "cell_type": "code",
   "execution_count": 2,
   "metadata": {
    "execution": {
     "iopub.execute_input": "2023-08-03T05:27:26.538911Z",
     "iopub.status.busy": "2023-08-03T05:27:26.537382Z",
     "iopub.status.idle": "2023-08-03T05:27:41.188752Z",
     "shell.execute_reply": "2023-08-03T05:27:41.187561Z",
     "shell.execute_reply.started": "2023-08-03T05:27:26.538813Z"
    }
   },
   "outputs": [
    {
     "name": "stdout",
     "output_type": "stream",
     "text": [
      "Collecting opencv-python\n",
      "  Downloading opencv_python-4.8.0.74-cp37-abi3-win_amd64.whl (38.1 MB)\n",
      "     ---------------------------------------- 38.1/38.1 MB 4.9 MB/s eta 0:00:00\n",
      "Requirement already satisfied: numpy>=1.19.3 in c:\\__pycache__\\anaconda\\lib\\site-packages (from opencv-python) (1.23.5)\n",
      "Installing collected packages: opencv-python\n",
      "Successfully installed opencv-python-4.8.0.74\n"
     ]
    }
   ],
   "source": [
    "!pip install opencv-python"
   ]
  },
  {
   "cell_type": "code",
   "execution_count": null,
   "metadata": {
    "execution": {
     "iopub.execute_input": "2023-08-03T06:35:55.446057Z",
     "iopub.status.busy": "2023-08-03T06:35:55.445586Z",
     "iopub.status.idle": "2023-08-03T06:35:55.451805Z",
     "shell.execute_reply": "2023-08-03T06:35:55.450684Z",
     "shell.execute_reply.started": "2023-08-03T06:35:55.446022Z"
    }
   },
   "outputs": [],
   "source": [
    "import cv2,time # Image detection task\n",
    "from datetime import datetime # to get the exact time of face detection\n",
    "import argparse #combine all the images and create a video of the facial actions.\n",
    "import os # File handling"
   ]
  },
  {
   "cell_type": "markdown",
   "metadata": {},
   "source": [
    "### Face Cascade\n",
    "A face cascade is a xml file which has all the properties of a human face."
   ]
  },
  {
   "cell_type": "code",
   "execution_count": null,
   "metadata": {
    "execution": {
     "iopub.execute_input": "2023-08-03T06:35:56.677093Z",
     "iopub.status.busy": "2023-08-03T06:35:56.676208Z",
     "iopub.status.idle": "2023-08-03T06:35:56.714868Z",
     "shell.execute_reply": "2023-08-03T06:35:56.713606Z",
     "shell.execute_reply.started": "2023-08-03T06:35:56.677052Z"
    }
   },
   "outputs": [],
   "source": [
    "face_cascade = cv2.CascadeClassifier(r\"C:\\Users\\HP\\Downloads\\haarcascade_frontalface.xml\")"
   ]
  },
  {
   "cell_type": "markdown",
   "metadata": {},
   "source": [
    "### Video Variable\n",
    "As we are using webcam we are using \"0\" otherwise we need to use the code."
   ]
  },
  {
   "cell_type": "code",
   "execution_count": null,
   "metadata": {
    "execution": {
     "iopub.execute_input": "2023-08-03T06:59:23.134610Z",
     "iopub.status.busy": "2023-08-03T06:59:23.134107Z",
     "iopub.status.idle": "2023-08-03T06:59:36.338809Z",
     "shell.execute_reply": "2023-08-03T06:59:36.337560Z",
     "shell.execute_reply.started": "2023-08-03T06:59:23.134559Z"
    }
   },
   "outputs": [],
   "source": [
    "!pip install opencv-contrib-python"
   ]
  },
  {
   "cell_type": "code",
   "execution_count": null,
   "metadata": {},
   "outputs": [],
   "source": [
    "video=cv2.VideoCapture(0)"
   ]
  },
  {
   "cell_type": "markdown",
   "metadata": {},
   "source": [
    "### Create a loop to extract the data"
   ]
  },
  {
   "cell_type": "code",
   "execution_count": null,
   "metadata": {
    "execution": {
     "iopub.execute_input": "2023-08-03T08:26:55.736001Z",
     "iopub.status.busy": "2023-08-03T08:26:55.735452Z"
    }
   },
   "outputs": [],
   "source": [
    "while True:\n",
    "    check,frame=video.read()# frame=> actual data is present\n",
    "    if frame is not None: # then convert the image to gray scale\n",
    "        gray=cv2.cvtColor(frame,cv2.COLOR_BGR2GRAY)\n",
    "        faces=face_cascade.detectMultiScale(gray,scaleFactor=1.1,minNeighbors=10)#Detect facial feature in the gray variable by using face fascade using precision factors\n",
    "        # Creating a rectangle frame on the face\n",
    "        for (x,y,w,h) in faces:\n",
    "            img=cv2.rectangle(frame,(x,y),(x+w,y+h),(0,255,0),3)# x,y=> place where a human face start.(x+w=> starting coordinate and width,y+h=>starting coordinate with height),(0,255,0=> RGB=> Green colored rectangle;3=>width of the recvtangle) \n",
    "            # Creating date time when the human face is present infront of the camera\n",
    "            exact_time=datetime.now().strftime('%Y-%b-%d-%H-%S-%f')# Using now class to format how the date is stored as a name in the image file.\n",
    "            cv2.imwrite(\"Face Detected\"+str(exact_time)+\".jpg\",img)\n",
    "        \n",
    "        # Display the video to the user\n",
    "        cv2.imshow(\" Home Surveillance\",frame)\n",
    "        key=cv2.waitKey(1)# key variable to close the window\n",
    "        \n",
    "        \n",
    "        if key==ord('q'):# if the user presses 'q' the key will be triggered and the window will be closed.\n",
    "            # Collect all the images and store them into a video.\n",
    "            ap=argparse.ArgumentParser()# Creating Argument Parser class\n",
    "            # sending jpg and mp4 file to the argparse\n",
    "            ap.add_argument(\"-ext\",\"--extension\",required=False,default='jpg')\n",
    "            ap.add_argument(\"-o\",\"--output\",required=False,default='output.mp4')\n",
    "            args=vars(ap.parse_args())\n",
    "            \n",
    "            # Create Arguments and path were the images atre present\n",
    "            dir_path=\".\"\n",
    "            ext=args['extension']\n",
    "            output=args['output']\n",
    "            \n",
    "            images=[]# this list will have all names of the image files\n",
    "            \n",
    "            # Creating a loop to check if there is any jpg file in the folder if yes then that will be added to the list.\n",
    "            #This is iterate in the same path where the python directory is present\n",
    "            \n",
    "            for f in os.listdir(dir_path):\n",
    "                if f.endswith(ext): # check the extension\n",
    "                    images.append(f) # append with the file name\n",
    "             \n",
    "            \n",
    "            # Finding the height and width of the video by seeing the height and width of the image.\n",
    "    \n",
    "            image_path=os.path.join(dir_path,images[0])# taking the first image and storing in the image path\n",
    "            frame=cv2.imread(image_path) # opening the image using cv2.imread\n",
    "            height,width,channels=frame.shape # frame.shape will return 3 values\n",
    "            \n",
    "            \n",
    "            #Using cv2.VideoWriter_forcc to see the encoding of the video\n",
    "            forcc=cv2.VideoWriter_fourcc(*'mp4v')\n",
    "            out=cv2.VideoWriter(output,forcc,5.0,(width,height))\n",
    "            \n",
    "            for image in images:\n",
    "                image_path=os.path.join(dir_path,image)\n",
    "                frame=cv2.imread(image_path)\n",
    "                out.write(frame)\n",
    "                \n",
    "            break\n",
    "\n",
    "video.release()\n",
    "cv2.destroyAllWindows\n",
    "            \n",
    "            \n",
    "            \n",
    "            \n",
    "        \n",
    "            "
   ]
  },
  {
   "cell_type": "code",
   "execution_count": null,
   "metadata": {},
   "outputs": [],
   "source": [
    "p"
   ]
  }
 ],
 "metadata": {
  "kernelspec": {
   "display_name": "Python 3 (ipykernel)",
   "language": "python",
   "name": "python3"
  },
  "language_info": {
   "codemirror_mode": {
    "name": "ipython",
    "version": 3
   },
   "file_extension": ".py",
   "mimetype": "text/x-python",
   "name": "python",
   "nbconvert_exporter": "python",
   "pygments_lexer": "ipython3",
   "version": "3.10.9"
  }
 },
 "nbformat": 4,
 "nbformat_minor": 4
}
